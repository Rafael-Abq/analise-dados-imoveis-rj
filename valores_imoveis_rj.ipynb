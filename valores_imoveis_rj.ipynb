{
  "nbformat": 4,
  "nbformat_minor": 0,
  "metadata": {
    "colab": {
      "name": "valores_imoveis_rj.ipynb",
      "provenance": [],
      "collapsed_sections": [
        "h5iFpir-AdxB"
      ],
      "include_colab_link": true
    },
    "kernelspec": {
      "name": "python3",
      "display_name": "Python 3"
    },
    "widgets": {
      "application/vnd.jupyter.widget-state+json": {
        "59c55a9eba084a2bb075af5927d749ab": {
          "model_module": "@jupyter-widgets/controls",
          "model_name": "HBoxModel",
          "state": {
            "_view_name": "HBoxView",
            "_dom_classes": [],
            "_model_name": "HBoxModel",
            "_view_module": "@jupyter-widgets/controls",
            "_model_module_version": "1.5.0",
            "_view_count": null,
            "_view_module_version": "1.5.0",
            "box_style": "",
            "layout": "IPY_MODEL_fa7cb2cb59754b10823a7ffdecc055ca",
            "_model_module": "@jupyter-widgets/controls",
            "children": [
              "IPY_MODEL_7ddfd55f65e949f1b0e5a3d3572ab0a4",
              "IPY_MODEL_adaec93e583d46698655cd0926912cf9",
              "IPY_MODEL_2298734974334c1c8c00294b42adc3fb"
            ]
          }
        },
        "fa7cb2cb59754b10823a7ffdecc055ca": {
          "model_module": "@jupyter-widgets/base",
          "model_name": "LayoutModel",
          "state": {
            "_view_name": "LayoutView",
            "grid_template_rows": null,
            "right": null,
            "justify_content": null,
            "_view_module": "@jupyter-widgets/base",
            "overflow": null,
            "_model_module_version": "1.2.0",
            "_view_count": null,
            "flex_flow": null,
            "width": null,
            "min_width": null,
            "border": null,
            "align_items": null,
            "bottom": null,
            "_model_module": "@jupyter-widgets/base",
            "top": null,
            "grid_column": null,
            "overflow_y": null,
            "overflow_x": null,
            "grid_auto_flow": null,
            "grid_area": null,
            "grid_template_columns": null,
            "flex": null,
            "_model_name": "LayoutModel",
            "justify_items": null,
            "grid_row": null,
            "max_height": null,
            "align_content": null,
            "visibility": null,
            "align_self": null,
            "height": null,
            "min_height": null,
            "padding": null,
            "grid_auto_rows": null,
            "grid_gap": null,
            "max_width": null,
            "order": null,
            "_view_module_version": "1.2.0",
            "grid_template_areas": null,
            "object_position": null,
            "object_fit": null,
            "grid_auto_columns": null,
            "margin": null,
            "display": null,
            "left": null
          }
        },
        "7ddfd55f65e949f1b0e5a3d3572ab0a4": {
          "model_module": "@jupyter-widgets/controls",
          "model_name": "HTMLModel",
          "state": {
            "_view_name": "HTMLView",
            "style": "IPY_MODEL_e081a95c811e4a728bc0325b873905c6",
            "_dom_classes": [],
            "description": "",
            "_model_name": "HTMLModel",
            "placeholder": "​",
            "_view_module": "@jupyter-widgets/controls",
            "_model_module_version": "1.5.0",
            "value": "Export report to file: 100%",
            "_view_count": null,
            "_view_module_version": "1.5.0",
            "description_tooltip": null,
            "_model_module": "@jupyter-widgets/controls",
            "layout": "IPY_MODEL_6a4a95ce141f407b9ee6c8c637885484"
          }
        },
        "adaec93e583d46698655cd0926912cf9": {
          "model_module": "@jupyter-widgets/controls",
          "model_name": "FloatProgressModel",
          "state": {
            "_view_name": "ProgressView",
            "style": "IPY_MODEL_9cfccdc9a3d5423da6c4219863cdcc86",
            "_dom_classes": [],
            "description": "",
            "_model_name": "FloatProgressModel",
            "bar_style": "success",
            "max": 1,
            "_view_module": "@jupyter-widgets/controls",
            "_model_module_version": "1.5.0",
            "value": 1,
            "_view_count": null,
            "_view_module_version": "1.5.0",
            "orientation": "horizontal",
            "min": 0,
            "description_tooltip": null,
            "_model_module": "@jupyter-widgets/controls",
            "layout": "IPY_MODEL_f33df6ba827447fbba7cdbe4dca56604"
          }
        },
        "2298734974334c1c8c00294b42adc3fb": {
          "model_module": "@jupyter-widgets/controls",
          "model_name": "HTMLModel",
          "state": {
            "_view_name": "HTMLView",
            "style": "IPY_MODEL_1cc6a5b3e3614d85a5faf472f1b46d61",
            "_dom_classes": [],
            "description": "",
            "_model_name": "HTMLModel",
            "placeholder": "​",
            "_view_module": "@jupyter-widgets/controls",
            "_model_module_version": "1.5.0",
            "value": " 1/1 [00:00&lt;00:00, 23.33it/s]",
            "_view_count": null,
            "_view_module_version": "1.5.0",
            "description_tooltip": null,
            "_model_module": "@jupyter-widgets/controls",
            "layout": "IPY_MODEL_784f4e6262444d8babd07aff00a60651"
          }
        },
        "e081a95c811e4a728bc0325b873905c6": {
          "model_module": "@jupyter-widgets/controls",
          "model_name": "DescriptionStyleModel",
          "state": {
            "_view_name": "StyleView",
            "_model_name": "DescriptionStyleModel",
            "description_width": "",
            "_view_module": "@jupyter-widgets/base",
            "_model_module_version": "1.5.0",
            "_view_count": null,
            "_view_module_version": "1.2.0",
            "_model_module": "@jupyter-widgets/controls"
          }
        },
        "6a4a95ce141f407b9ee6c8c637885484": {
          "model_module": "@jupyter-widgets/base",
          "model_name": "LayoutModel",
          "state": {
            "_view_name": "LayoutView",
            "grid_template_rows": null,
            "right": null,
            "justify_content": null,
            "_view_module": "@jupyter-widgets/base",
            "overflow": null,
            "_model_module_version": "1.2.0",
            "_view_count": null,
            "flex_flow": null,
            "width": null,
            "min_width": null,
            "border": null,
            "align_items": null,
            "bottom": null,
            "_model_module": "@jupyter-widgets/base",
            "top": null,
            "grid_column": null,
            "overflow_y": null,
            "overflow_x": null,
            "grid_auto_flow": null,
            "grid_area": null,
            "grid_template_columns": null,
            "flex": null,
            "_model_name": "LayoutModel",
            "justify_items": null,
            "grid_row": null,
            "max_height": null,
            "align_content": null,
            "visibility": null,
            "align_self": null,
            "height": null,
            "min_height": null,
            "padding": null,
            "grid_auto_rows": null,
            "grid_gap": null,
            "max_width": null,
            "order": null,
            "_view_module_version": "1.2.0",
            "grid_template_areas": null,
            "object_position": null,
            "object_fit": null,
            "grid_auto_columns": null,
            "margin": null,
            "display": null,
            "left": null
          }
        },
        "9cfccdc9a3d5423da6c4219863cdcc86": {
          "model_module": "@jupyter-widgets/controls",
          "model_name": "ProgressStyleModel",
          "state": {
            "_view_name": "StyleView",
            "_model_name": "ProgressStyleModel",
            "description_width": "",
            "_view_module": "@jupyter-widgets/base",
            "_model_module_version": "1.5.0",
            "_view_count": null,
            "_view_module_version": "1.2.0",
            "bar_color": null,
            "_model_module": "@jupyter-widgets/controls"
          }
        },
        "f33df6ba827447fbba7cdbe4dca56604": {
          "model_module": "@jupyter-widgets/base",
          "model_name": "LayoutModel",
          "state": {
            "_view_name": "LayoutView",
            "grid_template_rows": null,
            "right": null,
            "justify_content": null,
            "_view_module": "@jupyter-widgets/base",
            "overflow": null,
            "_model_module_version": "1.2.0",
            "_view_count": null,
            "flex_flow": null,
            "width": null,
            "min_width": null,
            "border": null,
            "align_items": null,
            "bottom": null,
            "_model_module": "@jupyter-widgets/base",
            "top": null,
            "grid_column": null,
            "overflow_y": null,
            "overflow_x": null,
            "grid_auto_flow": null,
            "grid_area": null,
            "grid_template_columns": null,
            "flex": null,
            "_model_name": "LayoutModel",
            "justify_items": null,
            "grid_row": null,
            "max_height": null,
            "align_content": null,
            "visibility": null,
            "align_self": null,
            "height": null,
            "min_height": null,
            "padding": null,
            "grid_auto_rows": null,
            "grid_gap": null,
            "max_width": null,
            "order": null,
            "_view_module_version": "1.2.0",
            "grid_template_areas": null,
            "object_position": null,
            "object_fit": null,
            "grid_auto_columns": null,
            "margin": null,
            "display": null,
            "left": null
          }
        },
        "1cc6a5b3e3614d85a5faf472f1b46d61": {
          "model_module": "@jupyter-widgets/controls",
          "model_name": "DescriptionStyleModel",
          "state": {
            "_view_name": "StyleView",
            "_model_name": "DescriptionStyleModel",
            "description_width": "",
            "_view_module": "@jupyter-widgets/base",
            "_model_module_version": "1.5.0",
            "_view_count": null,
            "_view_module_version": "1.2.0",
            "_model_module": "@jupyter-widgets/controls"
          }
        },
        "784f4e6262444d8babd07aff00a60651": {
          "model_module": "@jupyter-widgets/base",
          "model_name": "LayoutModel",
          "state": {
            "_view_name": "LayoutView",
            "grid_template_rows": null,
            "right": null,
            "justify_content": null,
            "_view_module": "@jupyter-widgets/base",
            "overflow": null,
            "_model_module_version": "1.2.0",
            "_view_count": null,
            "flex_flow": null,
            "width": null,
            "min_width": null,
            "border": null,
            "align_items": null,
            "bottom": null,
            "_model_module": "@jupyter-widgets/base",
            "top": null,
            "grid_column": null,
            "overflow_y": null,
            "overflow_x": null,
            "grid_auto_flow": null,
            "grid_area": null,
            "grid_template_columns": null,
            "flex": null,
            "_model_name": "LayoutModel",
            "justify_items": null,
            "grid_row": null,
            "max_height": null,
            "align_content": null,
            "visibility": null,
            "align_self": null,
            "height": null,
            "min_height": null,
            "padding": null,
            "grid_auto_rows": null,
            "grid_gap": null,
            "max_width": null,
            "order": null,
            "_view_module_version": "1.2.0",
            "grid_template_areas": null,
            "object_position": null,
            "object_fit": null,
            "grid_auto_columns": null,
            "margin": null,
            "display": null,
            "left": null
          }
        }
      }
    }
  },
  "cells": [
    {
      "cell_type": "markdown",
      "metadata": {
        "id": "view-in-github",
        "colab_type": "text"
      },
      "source": [
        "<a href=\"https://colab.research.google.com/github/Rafael-Abq/analise-dados-moveis-rj/blob/main/valores_imoveis_rj.ipynb\" target=\"_parent\"><img src=\"https://colab.research.google.com/assets/colab-badge.svg\" alt=\"Open In Colab\"/></a>"
      ]
    },
    {
      "cell_type": "markdown",
      "metadata": {
        "id": "i4cC1TBwrRbA"
      },
      "source": [
        "# Análise de dados com valores de imóveis no Rio de Janeiro"
      ]
    },
    {
      "cell_type": "markdown",
      "metadata": {
        "id": "09AW0gjpHvQv"
      },
      "source": [
        "  Como uma primeira experiência com análise de dados utilizando Pandas (e inspirado pelo, muito bem elaborado, [tutorial](https://medium.com/data-hackers/uma-introdu%C3%A7%C3%A3o-simples-ao-pandas-1e15eea37fa1) de introdução escrito por Vinícius Figueiredo), apresento este estudo sobre dados referentes a imóveis na cidade do Rio de Janeiro.\r\n",
        "\r\n",
        "  Produzido por [Rafael Albuquerque](https://www.linkedin.com/in/rafael-albuquerque-de-oliveira/) em 28 de dezembro de 2020.   \r\n",
        "  Revisado por [Bruna Machado Mulinari](https://www.linkedin.com/in/brunamachadomulinari/)."
      ]
    },
    {
      "cell_type": "markdown",
      "metadata": {
        "id": "yXAdbKGCa8Pw"
      },
      "source": [
        "Neste estudo me concentrei em analisar:\r\n",
        "\r\n",
        "\r\n",
        "*   A distribuição de imóveis por bairros;\r\n",
        "*   A distribuição do valor de metro quadrado por bairro;\r\n",
        "*   Os valores máximo, mínimo e médio dos preços dos imóveis;\r\n",
        "*   Os valores máximo, mínimo e médio dos preços por metro quadrado;\r\n",
        "*   Quais bairros possuem os valores mais altos de imóveis e por metro quadrado;\r\n",
        "*   A relação entre os preços dos imóveis e as suas áreas;\r\n",
        "*   A relação entre o valor de condomínio e a área dos imóveis.\r\n",
        "\r\n",
        "\r\n",
        "\r\n"
      ]
    },
    {
      "cell_type": "markdown",
      "metadata": {
        "id": "SlB4ZDr_25mN"
      },
      "source": [
        "# Informações do dataset:"
      ]
    },
    {
      "cell_type": "markdown",
      "metadata": {
        "id": "-2GBph6CyWpG"
      },
      "source": [
        "- Importando a biblioteca Pandas:\r\n",
        "\r\n"
      ]
    },
    {
      "cell_type": "code",
      "metadata": {
        "id": "6dom8m8GyThm"
      },
      "source": [
        "import pandas as pd"
      ],
      "execution_count": 1,
      "outputs": []
    },
    {
      "cell_type": "markdown",
      "metadata": {
        "id": "VVx3uEthyq71"
      },
      "source": [
        "- Importando a base de dados usando uma url:"
      ]
    },
    {
      "cell_type": "code",
      "metadata": {
        "id": "bGlyRMsnyeEd"
      },
      "source": [
        "dados_url = 'https://raw.githubusercontent.com/mvinoba/notebooks-for-binder/master/dados.csv'\r\n",
        "dados_df = pd.read_csv(dados_url)"
      ],
      "execution_count": 2,
      "outputs": []
    },
    {
      "cell_type": "markdown",
      "metadata": {
        "id": "2X4hm6Lo0CF_"
      },
      "source": [
        "- Visualizando o tipo do dataset:"
      ]
    },
    {
      "cell_type": "code",
      "metadata": {
        "colab": {
          "base_uri": "https://localhost:8080/"
        },
        "id": "cDoUUTIZ0Gsg",
        "outputId": "47d7b7e4-df19-42f5-a726-84556f88977c"
      },
      "source": [
        "type(dados_df)"
      ],
      "execution_count": null,
      "outputs": [
        {
          "output_type": "execute_result",
          "data": {
            "text/plain": [
              "pandas.core.frame.DataFrame"
            ]
          },
          "metadata": {
            "tags": []
          },
          "execution_count": 3
        }
      ]
    },
    {
      "cell_type": "markdown",
      "metadata": {
        "id": "ZeUhJdppzyF1"
      },
      "source": [
        "- VIsualizando os tipos de dados do dataframe:"
      ]
    },
    {
      "cell_type": "code",
      "metadata": {
        "colab": {
          "base_uri": "https://localhost:8080/"
        },
        "id": "HV_kK6U2ztiD",
        "outputId": "3ca4ccd4-cbee-4eb7-c242-78e1d2a843bf"
      },
      "source": [
        "dados_df.dtypes"
      ],
      "execution_count": null,
      "outputs": [
        {
          "output_type": "execute_result",
          "data": {
            "text/plain": [
              "condominio      int64\n",
              "quartos         int64\n",
              "suites        float64\n",
              "vagas         float64\n",
              "area            int64\n",
              "bairro         object\n",
              "preco           int64\n",
              "pm2           float64\n",
              "dtype: object"
            ]
          },
          "metadata": {
            "tags": []
          },
          "execution_count": 4
        }
      ]
    },
    {
      "cell_type": "markdown",
      "metadata": {
        "id": "RMsdsPZB0MjH"
      },
      "source": [
        "- Visualizando o tamanho do dataframe:"
      ]
    },
    {
      "cell_type": "code",
      "metadata": {
        "colab": {
          "base_uri": "https://localhost:8080/"
        },
        "id": "2vENXmb4zkAy",
        "outputId": "a3b786d7-83b5-42c0-93a8-ea8a2f8a3987"
      },
      "source": [
        "# (linhas, colunas)\r\n",
        "\r\n",
        "dados_df.shape"
      ],
      "execution_count": null,
      "outputs": [
        {
          "output_type": "execute_result",
          "data": {
            "text/plain": [
              "(1997, 8)"
            ]
          },
          "metadata": {
            "tags": []
          },
          "execution_count": 5
        }
      ]
    },
    {
      "cell_type": "markdown",
      "metadata": {
        "id": "_1I5sCLu0eCD"
      },
      "source": [
        "- Visualizando as primeiras 10 linhas do dataframe:"
      ]
    },
    {
      "cell_type": "code",
      "metadata": {
        "colab": {
          "base_uri": "https://localhost:8080/",
          "height": 359
        },
        "id": "Z_QWKY8c0URp",
        "outputId": "009a69f3-05d8-4dd3-c227-0cebbda84daa"
      },
      "source": [
        "dados_df.head(10)"
      ],
      "execution_count": null,
      "outputs": [
        {
          "output_type": "execute_result",
          "data": {
            "text/html": [
              "<div>\n",
              "<style scoped>\n",
              "    .dataframe tbody tr th:only-of-type {\n",
              "        vertical-align: middle;\n",
              "    }\n",
              "\n",
              "    .dataframe tbody tr th {\n",
              "        vertical-align: top;\n",
              "    }\n",
              "\n",
              "    .dataframe thead th {\n",
              "        text-align: right;\n",
              "    }\n",
              "</style>\n",
              "<table border=\"1\" class=\"dataframe\">\n",
              "  <thead>\n",
              "    <tr style=\"text-align: right;\">\n",
              "      <th></th>\n",
              "      <th>condominio</th>\n",
              "      <th>quartos</th>\n",
              "      <th>suites</th>\n",
              "      <th>vagas</th>\n",
              "      <th>area</th>\n",
              "      <th>bairro</th>\n",
              "      <th>preco</th>\n",
              "      <th>pm2</th>\n",
              "    </tr>\n",
              "  </thead>\n",
              "  <tbody>\n",
              "    <tr>\n",
              "      <th>0</th>\n",
              "      <td>350</td>\n",
              "      <td>1</td>\n",
              "      <td>0.0</td>\n",
              "      <td>1.0</td>\n",
              "      <td>21</td>\n",
              "      <td>Botafogo</td>\n",
              "      <td>340000</td>\n",
              "      <td>16190.48</td>\n",
              "    </tr>\n",
              "    <tr>\n",
              "      <th>1</th>\n",
              "      <td>800</td>\n",
              "      <td>1</td>\n",
              "      <td>0.0</td>\n",
              "      <td>1.0</td>\n",
              "      <td>64</td>\n",
              "      <td>Botafogo</td>\n",
              "      <td>770000</td>\n",
              "      <td>12031.25</td>\n",
              "    </tr>\n",
              "    <tr>\n",
              "      <th>2</th>\n",
              "      <td>674</td>\n",
              "      <td>1</td>\n",
              "      <td>0.0</td>\n",
              "      <td>1.0</td>\n",
              "      <td>61</td>\n",
              "      <td>Botafogo</td>\n",
              "      <td>600000</td>\n",
              "      <td>9836.07</td>\n",
              "    </tr>\n",
              "    <tr>\n",
              "      <th>3</th>\n",
              "      <td>700</td>\n",
              "      <td>1</td>\n",
              "      <td>1.0</td>\n",
              "      <td>1.0</td>\n",
              "      <td>70</td>\n",
              "      <td>Botafogo</td>\n",
              "      <td>700000</td>\n",
              "      <td>10000.00</td>\n",
              "    </tr>\n",
              "    <tr>\n",
              "      <th>4</th>\n",
              "      <td>440</td>\n",
              "      <td>1</td>\n",
              "      <td>0.0</td>\n",
              "      <td>1.0</td>\n",
              "      <td>44</td>\n",
              "      <td>Botafogo</td>\n",
              "      <td>515000</td>\n",
              "      <td>11704.55</td>\n",
              "    </tr>\n",
              "    <tr>\n",
              "      <th>5</th>\n",
              "      <td>917</td>\n",
              "      <td>1</td>\n",
              "      <td>1.0</td>\n",
              "      <td>1.0</td>\n",
              "      <td>60</td>\n",
              "      <td>Botafogo</td>\n",
              "      <td>630000</td>\n",
              "      <td>10500.00</td>\n",
              "    </tr>\n",
              "    <tr>\n",
              "      <th>6</th>\n",
              "      <td>850</td>\n",
              "      <td>1</td>\n",
              "      <td>1.0</td>\n",
              "      <td>1.0</td>\n",
              "      <td>65</td>\n",
              "      <td>Botafogo</td>\n",
              "      <td>740000</td>\n",
              "      <td>11384.62</td>\n",
              "    </tr>\n",
              "    <tr>\n",
              "      <th>7</th>\n",
              "      <td>350</td>\n",
              "      <td>1</td>\n",
              "      <td>1.0</td>\n",
              "      <td>1.0</td>\n",
              "      <td>43</td>\n",
              "      <td>Botafogo</td>\n",
              "      <td>570000</td>\n",
              "      <td>13255.81</td>\n",
              "    </tr>\n",
              "    <tr>\n",
              "      <th>8</th>\n",
              "      <td>440</td>\n",
              "      <td>1</td>\n",
              "      <td>1.0</td>\n",
              "      <td>1.0</td>\n",
              "      <td>26</td>\n",
              "      <td>Botafogo</td>\n",
              "      <td>430000</td>\n",
              "      <td>16538.46</td>\n",
              "    </tr>\n",
              "    <tr>\n",
              "      <th>9</th>\n",
              "      <td>510</td>\n",
              "      <td>1</td>\n",
              "      <td>1.0</td>\n",
              "      <td>1.0</td>\n",
              "      <td>42</td>\n",
              "      <td>Botafogo</td>\n",
              "      <td>500000</td>\n",
              "      <td>11904.76</td>\n",
              "    </tr>\n",
              "  </tbody>\n",
              "</table>\n",
              "</div>"
            ],
            "text/plain": [
              "   condominio  quartos  suites  vagas  area    bairro   preco       pm2\n",
              "0         350        1     0.0    1.0    21  Botafogo  340000  16190.48\n",
              "1         800        1     0.0    1.0    64  Botafogo  770000  12031.25\n",
              "2         674        1     0.0    1.0    61  Botafogo  600000   9836.07\n",
              "3         700        1     1.0    1.0    70  Botafogo  700000  10000.00\n",
              "4         440        1     0.0    1.0    44  Botafogo  515000  11704.55\n",
              "5         917        1     1.0    1.0    60  Botafogo  630000  10500.00\n",
              "6         850        1     1.0    1.0    65  Botafogo  740000  11384.62\n",
              "7         350        1     1.0    1.0    43  Botafogo  570000  13255.81\n",
              "8         440        1     1.0    1.0    26  Botafogo  430000  16538.46\n",
              "9         510        1     1.0    1.0    42  Botafogo  500000  11904.76"
            ]
          },
          "metadata": {
            "tags": []
          },
          "execution_count": 6
        }
      ]
    },
    {
      "cell_type": "markdown",
      "metadata": {
        "id": "rmpk0JAz0r6N"
      },
      "source": [
        "- Visualizando as últimas 10 linhas do dataframe:"
      ]
    },
    {
      "cell_type": "code",
      "metadata": {
        "colab": {
          "base_uri": "https://localhost:8080/",
          "height": 359
        },
        "id": "sseKnAVB0mWa",
        "outputId": "9036fa44-f707-4b71-8b5f-31f0b4771700"
      },
      "source": [
        "dados_df.tail(10)"
      ],
      "execution_count": null,
      "outputs": [
        {
          "output_type": "execute_result",
          "data": {
            "text/html": [
              "<div>\n",
              "<style scoped>\n",
              "    .dataframe tbody tr th:only-of-type {\n",
              "        vertical-align: middle;\n",
              "    }\n",
              "\n",
              "    .dataframe tbody tr th {\n",
              "        vertical-align: top;\n",
              "    }\n",
              "\n",
              "    .dataframe thead th {\n",
              "        text-align: right;\n",
              "    }\n",
              "</style>\n",
              "<table border=\"1\" class=\"dataframe\">\n",
              "  <thead>\n",
              "    <tr style=\"text-align: right;\">\n",
              "      <th></th>\n",
              "      <th>condominio</th>\n",
              "      <th>quartos</th>\n",
              "      <th>suites</th>\n",
              "      <th>vagas</th>\n",
              "      <th>area</th>\n",
              "      <th>bairro</th>\n",
              "      <th>preco</th>\n",
              "      <th>pm2</th>\n",
              "    </tr>\n",
              "  </thead>\n",
              "  <tbody>\n",
              "    <tr>\n",
              "      <th>1987</th>\n",
              "      <td>880</td>\n",
              "      <td>3</td>\n",
              "      <td>1.0</td>\n",
              "      <td>1.0</td>\n",
              "      <td>100</td>\n",
              "      <td>Tijuca</td>\n",
              "      <td>800000</td>\n",
              "      <td>8000.00</td>\n",
              "    </tr>\n",
              "    <tr>\n",
              "      <th>1988</th>\n",
              "      <td>870</td>\n",
              "      <td>3</td>\n",
              "      <td>1.0</td>\n",
              "      <td>1.0</td>\n",
              "      <td>100</td>\n",
              "      <td>Tijuca</td>\n",
              "      <td>580000</td>\n",
              "      <td>5800.00</td>\n",
              "    </tr>\n",
              "    <tr>\n",
              "      <th>1989</th>\n",
              "      <td>400</td>\n",
              "      <td>3</td>\n",
              "      <td>1.0</td>\n",
              "      <td>1.0</td>\n",
              "      <td>92</td>\n",
              "      <td>Tijuca</td>\n",
              "      <td>480000</td>\n",
              "      <td>5217.39</td>\n",
              "    </tr>\n",
              "    <tr>\n",
              "      <th>1990</th>\n",
              "      <td>686</td>\n",
              "      <td>3</td>\n",
              "      <td>0.0</td>\n",
              "      <td>1.0</td>\n",
              "      <td>105</td>\n",
              "      <td>Tijuca</td>\n",
              "      <td>490000</td>\n",
              "      <td>4666.67</td>\n",
              "    </tr>\n",
              "    <tr>\n",
              "      <th>1991</th>\n",
              "      <td>450</td>\n",
              "      <td>3</td>\n",
              "      <td>1.0</td>\n",
              "      <td>1.0</td>\n",
              "      <td>72</td>\n",
              "      <td>Tijuca</td>\n",
              "      <td>435000</td>\n",
              "      <td>6041.67</td>\n",
              "    </tr>\n",
              "    <tr>\n",
              "      <th>1992</th>\n",
              "      <td>1080</td>\n",
              "      <td>3</td>\n",
              "      <td>1.0</td>\n",
              "      <td>1.0</td>\n",
              "      <td>80</td>\n",
              "      <td>Tijuca</td>\n",
              "      <td>680000</td>\n",
              "      <td>8500.00</td>\n",
              "    </tr>\n",
              "    <tr>\n",
              "      <th>1993</th>\n",
              "      <td>750</td>\n",
              "      <td>3</td>\n",
              "      <td>0.0</td>\n",
              "      <td>1.0</td>\n",
              "      <td>82</td>\n",
              "      <td>Tijuca</td>\n",
              "      <td>650000</td>\n",
              "      <td>7926.83</td>\n",
              "    </tr>\n",
              "    <tr>\n",
              "      <th>1994</th>\n",
              "      <td>700</td>\n",
              "      <td>3</td>\n",
              "      <td>1.0</td>\n",
              "      <td>1.0</td>\n",
              "      <td>100</td>\n",
              "      <td>Tijuca</td>\n",
              "      <td>629900</td>\n",
              "      <td>6299.00</td>\n",
              "    </tr>\n",
              "    <tr>\n",
              "      <th>1995</th>\n",
              "      <td>1850</td>\n",
              "      <td>3</td>\n",
              "      <td>1.0</td>\n",
              "      <td>2.0</td>\n",
              "      <td>166</td>\n",
              "      <td>Tijuca</td>\n",
              "      <td>1600000</td>\n",
              "      <td>9638.55</td>\n",
              "    </tr>\n",
              "    <tr>\n",
              "      <th>1996</th>\n",
              "      <td>800</td>\n",
              "      <td>3</td>\n",
              "      <td>1.0</td>\n",
              "      <td>1.0</td>\n",
              "      <td>107</td>\n",
              "      <td>Tijuca</td>\n",
              "      <td>540000</td>\n",
              "      <td>5046.73</td>\n",
              "    </tr>\n",
              "  </tbody>\n",
              "</table>\n",
              "</div>"
            ],
            "text/plain": [
              "      condominio  quartos  suites  vagas  area  bairro    preco      pm2\n",
              "1987         880        3     1.0    1.0   100  Tijuca   800000  8000.00\n",
              "1988         870        3     1.0    1.0   100  Tijuca   580000  5800.00\n",
              "1989         400        3     1.0    1.0    92  Tijuca   480000  5217.39\n",
              "1990         686        3     0.0    1.0   105  Tijuca   490000  4666.67\n",
              "1991         450        3     1.0    1.0    72  Tijuca   435000  6041.67\n",
              "1992        1080        3     1.0    1.0    80  Tijuca   680000  8500.00\n",
              "1993         750        3     0.0    1.0    82  Tijuca   650000  7926.83\n",
              "1994         700        3     1.0    1.0   100  Tijuca   629900  6299.00\n",
              "1995        1850        3     1.0    2.0   166  Tijuca  1600000  9638.55\n",
              "1996         800        3     1.0    1.0   107  Tijuca   540000  5046.73"
            ]
          },
          "metadata": {
            "tags": []
          },
          "execution_count": 7
        }
      ]
    },
    {
      "cell_type": "markdown",
      "metadata": {
        "id": "QrGZd9Wx1Xna"
      },
      "source": [
        "- Visualizando o nome das colunas (features):"
      ]
    },
    {
      "cell_type": "code",
      "metadata": {
        "colab": {
          "base_uri": "https://localhost:8080/"
        },
        "id": "KbfeFvM40xmb",
        "outputId": "4a0516c3-78a6-4506-832c-21448da072a2"
      },
      "source": [
        "dados_df.columns"
      ],
      "execution_count": null,
      "outputs": [
        {
          "output_type": "execute_result",
          "data": {
            "text/plain": [
              "Index(['condominio', 'quartos', 'suites', 'vagas', 'area', 'bairro', 'preco',\n",
              "       'pm2'],\n",
              "      dtype='object')"
            ]
          },
          "metadata": {
            "tags": []
          },
          "execution_count": 8
        }
      ]
    },
    {
      "cell_type": "markdown",
      "metadata": {
        "id": "vjaEn7iK2QfX"
      },
      "source": [
        "- Visualizando as informações estatísticas do dataframe:"
      ]
    },
    {
      "cell_type": "code",
      "metadata": {
        "colab": {
          "base_uri": "https://localhost:8080/",
          "height": 297
        },
        "id": "hsXq4TEi1eOk",
        "outputId": "0afd7985-bdd7-42dc-c9f7-32b6d7f7a86c"
      },
      "source": [
        "dados_df.describe()"
      ],
      "execution_count": null,
      "outputs": [
        {
          "output_type": "execute_result",
          "data": {
            "text/html": [
              "<div>\n",
              "<style scoped>\n",
              "    .dataframe tbody tr th:only-of-type {\n",
              "        vertical-align: middle;\n",
              "    }\n",
              "\n",
              "    .dataframe tbody tr th {\n",
              "        vertical-align: top;\n",
              "    }\n",
              "\n",
              "    .dataframe thead th {\n",
              "        text-align: right;\n",
              "    }\n",
              "</style>\n",
              "<table border=\"1\" class=\"dataframe\">\n",
              "  <thead>\n",
              "    <tr style=\"text-align: right;\">\n",
              "      <th></th>\n",
              "      <th>condominio</th>\n",
              "      <th>quartos</th>\n",
              "      <th>suites</th>\n",
              "      <th>vagas</th>\n",
              "      <th>area</th>\n",
              "      <th>preco</th>\n",
              "      <th>pm2</th>\n",
              "    </tr>\n",
              "  </thead>\n",
              "  <tbody>\n",
              "    <tr>\n",
              "      <th>count</th>\n",
              "      <td>1997.000000</td>\n",
              "      <td>1997.000000</td>\n",
              "      <td>1997.000000</td>\n",
              "      <td>1997.000000</td>\n",
              "      <td>1997.000000</td>\n",
              "      <td>1.997000e+03</td>\n",
              "      <td>1997.00000</td>\n",
              "    </tr>\n",
              "    <tr>\n",
              "      <th>mean</th>\n",
              "      <td>971.087631</td>\n",
              "      <td>2.128693</td>\n",
              "      <td>1.039559</td>\n",
              "      <td>1.153230</td>\n",
              "      <td>90.051577</td>\n",
              "      <td>1.229410e+06</td>\n",
              "      <td>13256.74635</td>\n",
              "    </tr>\n",
              "    <tr>\n",
              "      <th>std</th>\n",
              "      <td>653.893691</td>\n",
              "      <td>0.793866</td>\n",
              "      <td>0.443091</td>\n",
              "      <td>0.453837</td>\n",
              "      <td>46.417486</td>\n",
              "      <td>1.155809e+06</td>\n",
              "      <td>6977.37614</td>\n",
              "    </tr>\n",
              "    <tr>\n",
              "      <th>min</th>\n",
              "      <td>1.000000</td>\n",
              "      <td>1.000000</td>\n",
              "      <td>0.000000</td>\n",
              "      <td>0.000000</td>\n",
              "      <td>19.000000</td>\n",
              "      <td>1.300000e+05</td>\n",
              "      <td>2600.00000</td>\n",
              "    </tr>\n",
              "    <tr>\n",
              "      <th>25%</th>\n",
              "      <td>550.000000</td>\n",
              "      <td>1.000000</td>\n",
              "      <td>1.000000</td>\n",
              "      <td>1.000000</td>\n",
              "      <td>60.000000</td>\n",
              "      <td>5.600000e+05</td>\n",
              "      <td>7894.74000</td>\n",
              "    </tr>\n",
              "    <tr>\n",
              "      <th>50%</th>\n",
              "      <td>800.000000</td>\n",
              "      <td>2.000000</td>\n",
              "      <td>1.000000</td>\n",
              "      <td>1.000000</td>\n",
              "      <td>80.000000</td>\n",
              "      <td>9.000000e+05</td>\n",
              "      <td>11904.76000</td>\n",
              "    </tr>\n",
              "    <tr>\n",
              "      <th>75%</th>\n",
              "      <td>1200.000000</td>\n",
              "      <td>3.000000</td>\n",
              "      <td>1.000000</td>\n",
              "      <td>1.000000</td>\n",
              "      <td>110.000000</td>\n",
              "      <td>1.550000e+06</td>\n",
              "      <td>17156.86000</td>\n",
              "    </tr>\n",
              "    <tr>\n",
              "      <th>max</th>\n",
              "      <td>7071.000000</td>\n",
              "      <td>3.000000</td>\n",
              "      <td>3.000000</td>\n",
              "      <td>4.000000</td>\n",
              "      <td>475.000000</td>\n",
              "      <td>1.360000e+07</td>\n",
              "      <td>76666.67000</td>\n",
              "    </tr>\n",
              "  </tbody>\n",
              "</table>\n",
              "</div>"
            ],
            "text/plain": [
              "        condominio      quartos  ...         preco          pm2\n",
              "count  1997.000000  1997.000000  ...  1.997000e+03   1997.00000\n",
              "mean    971.087631     2.128693  ...  1.229410e+06  13256.74635\n",
              "std     653.893691     0.793866  ...  1.155809e+06   6977.37614\n",
              "min       1.000000     1.000000  ...  1.300000e+05   2600.00000\n",
              "25%     550.000000     1.000000  ...  5.600000e+05   7894.74000\n",
              "50%     800.000000     2.000000  ...  9.000000e+05  11904.76000\n",
              "75%    1200.000000     3.000000  ...  1.550000e+06  17156.86000\n",
              "max    7071.000000     3.000000  ...  1.360000e+07  76666.67000\n",
              "\n",
              "[8 rows x 7 columns]"
            ]
          },
          "metadata": {
            "tags": []
          },
          "execution_count": 9
        }
      ]
    },
    {
      "cell_type": "markdown",
      "metadata": {
        "id": "YBdIcrin2dBT"
      },
      "source": [
        "- Verificando a quantidade de dados nulos ou não existentes:"
      ]
    },
    {
      "cell_type": "code",
      "metadata": {
        "colab": {
          "base_uri": "https://localhost:8080/"
        },
        "id": "hHJR_WGD2YTF",
        "outputId": "55d7c53c-eaf4-48a4-a310-089cb9590976"
      },
      "source": [
        "dados_df.isnull().sum()"
      ],
      "execution_count": null,
      "outputs": [
        {
          "output_type": "execute_result",
          "data": {
            "text/plain": [
              "condominio    0\n",
              "quartos       0\n",
              "suites        0\n",
              "vagas         0\n",
              "area          0\n",
              "bairro        0\n",
              "preco         0\n",
              "pm2           0\n",
              "dtype: int64"
            ]
          },
          "metadata": {
            "tags": []
          },
          "execution_count": 10
        }
      ]
    },
    {
      "cell_type": "markdown",
      "metadata": {
        "id": "aXs8Q8jH6aE0"
      },
      "source": [
        "# Análise dos dados"
      ]
    },
    {
      "cell_type": "markdown",
      "metadata": {
        "id": "nRnc4Fep2u9R"
      },
      "source": [
        "- Informações do dataframe:"
      ]
    },
    {
      "cell_type": "code",
      "metadata": {
        "colab": {
          "base_uri": "https://localhost:8080/"
        },
        "id": "2Prci4IT2jhs",
        "outputId": "65793a41-2e82-4529-baf7-bd8ceb71b1bf"
      },
      "source": [
        "dados_df.info()"
      ],
      "execution_count": null,
      "outputs": [
        {
          "output_type": "stream",
          "text": [
            "<class 'pandas.core.frame.DataFrame'>\n",
            "RangeIndex: 1997 entries, 0 to 1996\n",
            "Data columns (total 8 columns):\n",
            " #   Column      Non-Null Count  Dtype  \n",
            "---  ------      --------------  -----  \n",
            " 0   condominio  1997 non-null   int64  \n",
            " 1   quartos     1997 non-null   int64  \n",
            " 2   suites      1997 non-null   float64\n",
            " 3   vagas       1997 non-null   float64\n",
            " 4   area        1997 non-null   int64  \n",
            " 5   bairro      1997 non-null   object \n",
            " 6   preco       1997 non-null   int64  \n",
            " 7   pm2         1997 non-null   float64\n",
            "dtypes: float64(3), int64(4), object(1)\n",
            "memory usage: 124.9+ KB\n"
          ],
          "name": "stdout"
        }
      ]
    },
    {
      "cell_type": "markdown",
      "metadata": {
        "id": "AYsHo18j6irr"
      },
      "source": [
        "- Quais bairros aparecem?"
      ]
    },
    {
      "cell_type": "code",
      "metadata": {
        "colab": {
          "base_uri": "https://localhost:8080/"
        },
        "id": "CDK3Nmzn5RS1",
        "outputId": "06b9d974-401f-444e-e966-467e580a4827"
      },
      "source": [
        "print(dados_df['bairro'].unique())"
      ],
      "execution_count": null,
      "outputs": [
        {
          "output_type": "stream",
          "text": [
            "['Botafogo' 'Copacabana' 'Gávea' 'Grajaú' 'Ipanema' 'Leblon' 'Tijuca']\n"
          ],
          "name": "stdout"
        }
      ]
    },
    {
      "cell_type": "markdown",
      "metadata": {
        "id": "GLw5vzc465G_"
      },
      "source": [
        "- Qual a quantidade de dados avaliados por bairro?\r\n",
        "\r\n",
        "Desta forma é possível saber quais são as áreas com maior número de imóveis analisados"
      ]
    },
    {
      "cell_type": "code",
      "metadata": {
        "colab": {
          "base_uri": "https://localhost:8080/"
        },
        "id": "PtCO6EVC6rSr",
        "outputId": "f909225b-1093-4789-f1e9-757b90770217"
      },
      "source": [
        "dados_df.bairro.value_counts()"
      ],
      "execution_count": null,
      "outputs": [
        {
          "output_type": "execute_result",
          "data": {
            "text/plain": [
              "Copacabana    346\n",
              "Tijuca        341\n",
              "Botafogo      307\n",
              "Ipanema       281\n",
              "Leblon        280\n",
              "Grajaú        237\n",
              "Gávea         205\n",
              "Name: bairro, dtype: int64"
            ]
          },
          "metadata": {
            "tags": []
          },
          "execution_count": 13
        }
      ]
    },
    {
      "cell_type": "markdown",
      "metadata": {
        "id": "syGgKlO67QTJ"
      },
      "source": [
        "- Qual a quantidade máxima de dormitórios analisada?"
      ]
    },
    {
      "cell_type": "code",
      "metadata": {
        "colab": {
          "base_uri": "https://localhost:8080/"
        },
        "id": "ve-avgTU7AeH",
        "outputId": "cc6a1966-401c-4c5c-a077-ccaba0cc37d3"
      },
      "source": [
        "dados_df.quartos.max()"
      ],
      "execution_count": null,
      "outputs": [
        {
          "output_type": "execute_result",
          "data": {
            "text/plain": [
              "3"
            ]
          },
          "metadata": {
            "tags": []
          },
          "execution_count": 14
        }
      ]
    },
    {
      "cell_type": "markdown",
      "metadata": {
        "id": "cc66Ea4k7gVA"
      },
      "source": [
        "- Quais os valores máximo e mínimo de preço de imóvel?"
      ]
    },
    {
      "cell_type": "code",
      "metadata": {
        "colab": {
          "base_uri": "https://localhost:8080/"
        },
        "id": "0SlZHd147X2B",
        "outputId": "b9f16bd3-a30a-45f3-b38a-07a7953983ee"
      },
      "source": [
        "valor_max = dados_df.preco.max()\r\n",
        "valor_min = dados_df.preco.min()\r\n",
        "\r\n",
        "print(f'Preço máximo: R${valor_max},00')\r\n",
        "print(f'Preço mínimo: R${valor_min},00')"
      ],
      "execution_count": null,
      "outputs": [
        {
          "output_type": "stream",
          "text": [
            "Preço máximo: R$13600000,00\n",
            "Preço mínimo: R$130000,00\n"
          ],
          "name": "stdout"
        }
      ]
    },
    {
      "cell_type": "markdown",
      "metadata": {
        "id": "kiLZhd0_8SzP"
      },
      "source": [
        "- Quais os valores máximo e mínimo de preço por metro quadrado?"
      ]
    },
    {
      "cell_type": "code",
      "metadata": {
        "colab": {
          "base_uri": "https://localhost:8080/"
        },
        "id": "m2_8plpr79BB",
        "outputId": "c195708b-1540-40f6-dc21-2328e30c33ed"
      },
      "source": [
        "m2_max = dados_df.pm2.max()\r\n",
        "m2_min = dados_df.pm2.min()\r\n",
        "\r\n",
        "print(f'Preço máximo por metro quadrado: R${m2_max}')\r\n",
        "print(f'Preço mínimo por metro quadrado: R${m2_min}')"
      ],
      "execution_count": null,
      "outputs": [
        {
          "output_type": "stream",
          "text": [
            "Preço máximo por metro quadrado: R$76666.67\n",
            "Preço mínimo por metro quadrado: R$2600.0\n"
          ],
          "name": "stdout"
        }
      ]
    },
    {
      "cell_type": "markdown",
      "metadata": {
        "id": "W4TN-3nQ9CAh"
      },
      "source": [
        "- Qual os valores máximo e mínimo de condomínio?"
      ]
    },
    {
      "cell_type": "code",
      "metadata": {
        "colab": {
          "base_uri": "https://localhost:8080/"
        },
        "id": "h1woZztA8jE6",
        "outputId": "04dbaeca-9cf2-4f44-b409-e573184dff0f"
      },
      "source": [
        "condo_max = dados_df.condominio.max()\r\n",
        "condo_min = dados_df.condominio.min()\r\n",
        "\r\n",
        "print(f'Valor máximo de condomínio: R${condo_max},00')\r\n",
        "print(f'Valor mínimo de condomínio: R${condo_min},00')"
      ],
      "execution_count": null,
      "outputs": [
        {
          "output_type": "stream",
          "text": [
            "Valor máximo de condomínio: R$7071,00\n",
            "Valor mínimo de condomínio: R$1,00\n"
          ],
          "name": "stdout"
        }
      ]
    },
    {
      "cell_type": "markdown",
      "metadata": {
        "id": "_LWMEBsQ-G3j"
      },
      "source": [
        "- Qual a média de valor por metro quadrado analisado?\r\n"
      ]
    },
    {
      "cell_type": "code",
      "metadata": {
        "colab": {
          "base_uri": "https://localhost:8080/"
        },
        "id": "pUDJhc7D9W2u",
        "outputId": "a356ecb3-1b7b-4b02-fe9d-faacf3d1be8a"
      },
      "source": [
        "pm2_med = round(dados_df['pm2'].mean(),2)\r\n",
        "print(f'Preço médio por metro quadrado: R$ {pm2_med}')"
      ],
      "execution_count": null,
      "outputs": [
        {
          "output_type": "stream",
          "text": [
            "Preço médio por metro quadrado: R$ 13256.75\n"
          ],
          "name": "stdout"
        }
      ]
    },
    {
      "cell_type": "markdown",
      "metadata": {
        "id": "iHJ6DkYhMxQA"
      },
      "source": [
        "- Agrupando por bairros para visualizar a média dos valores das colunas"
      ]
    },
    {
      "cell_type": "code",
      "metadata": {
        "colab": {
          "base_uri": "https://localhost:8080/",
          "height": 297
        },
        "id": "fLzZWdbY-PDl",
        "outputId": "a7706c49-8bbf-4ae4-80a6-91291420a12e"
      },
      "source": [
        "dados_df.groupby('bairro').mean()"
      ],
      "execution_count": null,
      "outputs": [
        {
          "output_type": "execute_result",
          "data": {
            "text/html": [
              "<div>\n",
              "<style scoped>\n",
              "    .dataframe tbody tr th:only-of-type {\n",
              "        vertical-align: middle;\n",
              "    }\n",
              "\n",
              "    .dataframe tbody tr th {\n",
              "        vertical-align: top;\n",
              "    }\n",
              "\n",
              "    .dataframe thead th {\n",
              "        text-align: right;\n",
              "    }\n",
              "</style>\n",
              "<table border=\"1\" class=\"dataframe\">\n",
              "  <thead>\n",
              "    <tr style=\"text-align: right;\">\n",
              "      <th></th>\n",
              "      <th>condominio</th>\n",
              "      <th>quartos</th>\n",
              "      <th>suites</th>\n",
              "      <th>vagas</th>\n",
              "      <th>area</th>\n",
              "      <th>preco</th>\n",
              "      <th>pm2</th>\n",
              "    </tr>\n",
              "    <tr>\n",
              "      <th>bairro</th>\n",
              "      <th></th>\n",
              "      <th></th>\n",
              "      <th></th>\n",
              "      <th></th>\n",
              "      <th></th>\n",
              "      <th></th>\n",
              "      <th></th>\n",
              "    </tr>\n",
              "  </thead>\n",
              "  <tbody>\n",
              "    <tr>\n",
              "      <th>Botafogo</th>\n",
              "      <td>914.475570</td>\n",
              "      <td>2.107492</td>\n",
              "      <td>1.048860</td>\n",
              "      <td>1.159609</td>\n",
              "      <td>83.837134</td>\n",
              "      <td>1.010614e+06</td>\n",
              "      <td>12034.486189</td>\n",
              "    </tr>\n",
              "    <tr>\n",
              "      <th>Copacabana</th>\n",
              "      <td>991.861272</td>\n",
              "      <td>2.101156</td>\n",
              "      <td>1.034682</td>\n",
              "      <td>1.080925</td>\n",
              "      <td>101.855491</td>\n",
              "      <td>1.216344e+06</td>\n",
              "      <td>11965.298699</td>\n",
              "    </tr>\n",
              "    <tr>\n",
              "      <th>Grajaú</th>\n",
              "      <td>619.940928</td>\n",
              "      <td>2.097046</td>\n",
              "      <td>0.970464</td>\n",
              "      <td>1.130802</td>\n",
              "      <td>79.949367</td>\n",
              "      <td>4.788869e+05</td>\n",
              "      <td>6145.624473</td>\n",
              "    </tr>\n",
              "    <tr>\n",
              "      <th>Gávea</th>\n",
              "      <td>985.234146</td>\n",
              "      <td>2.058537</td>\n",
              "      <td>1.029268</td>\n",
              "      <td>1.200000</td>\n",
              "      <td>88.497561</td>\n",
              "      <td>1.454571e+06</td>\n",
              "      <td>16511.582780</td>\n",
              "    </tr>\n",
              "    <tr>\n",
              "      <th>Ipanema</th>\n",
              "      <td>1357.120996</td>\n",
              "      <td>2.181495</td>\n",
              "      <td>1.192171</td>\n",
              "      <td>1.220641</td>\n",
              "      <td>100.615658</td>\n",
              "      <td>2.033096e+06</td>\n",
              "      <td>19738.407794</td>\n",
              "    </tr>\n",
              "    <tr>\n",
              "      <th>Leblon</th>\n",
              "      <td>1260.010714</td>\n",
              "      <td>2.207143</td>\n",
              "      <td>1.064286</td>\n",
              "      <td>1.164286</td>\n",
              "      <td>91.832143</td>\n",
              "      <td>1.946193e+06</td>\n",
              "      <td>20761.351036</td>\n",
              "    </tr>\n",
              "    <tr>\n",
              "      <th>Tijuca</th>\n",
              "      <td>681.175953</td>\n",
              "      <td>2.131965</td>\n",
              "      <td>0.944282</td>\n",
              "      <td>1.143695</td>\n",
              "      <td>81.457478</td>\n",
              "      <td>5.750780e+05</td>\n",
              "      <td>7149.804985</td>\n",
              "    </tr>\n",
              "  </tbody>\n",
              "</table>\n",
              "</div>"
            ],
            "text/plain": [
              "             condominio   quartos  ...         preco           pm2\n",
              "bairro                             ...                            \n",
              "Botafogo     914.475570  2.107492  ...  1.010614e+06  12034.486189\n",
              "Copacabana   991.861272  2.101156  ...  1.216344e+06  11965.298699\n",
              "Grajaú       619.940928  2.097046  ...  4.788869e+05   6145.624473\n",
              "Gávea        985.234146  2.058537  ...  1.454571e+06  16511.582780\n",
              "Ipanema     1357.120996  2.181495  ...  2.033096e+06  19738.407794\n",
              "Leblon      1260.010714  2.207143  ...  1.946193e+06  20761.351036\n",
              "Tijuca       681.175953  2.131965  ...  5.750780e+05   7149.804985\n",
              "\n",
              "[7 rows x 7 columns]"
            ]
          },
          "metadata": {
            "tags": []
          },
          "execution_count": 19
        }
      ]
    },
    {
      "cell_type": "markdown",
      "metadata": {
        "id": "938jfSOdNhxd"
      },
      "source": [
        "- Quais são os valores médios dos imóveis por bairro?"
      ]
    },
    {
      "cell_type": "code",
      "metadata": {
        "colab": {
          "base_uri": "https://localhost:8080/"
        },
        "id": "H5UVxW0jNq1u",
        "outputId": "afef5446-d68a-4ce8-9f01-ca5476b06432"
      },
      "source": [
        "round(dados_df.groupby('bairro').mean()['preco'].sort_values(),2)"
      ],
      "execution_count": null,
      "outputs": [
        {
          "output_type": "execute_result",
          "data": {
            "text/plain": [
              "bairro\n",
              "Grajaú         478886.90\n",
              "Tijuca         575077.98\n",
              "Botafogo      1010613.64\n",
              "Copacabana    1216343.64\n",
              "Gávea         1454570.73\n",
              "Leblon        1946192.86\n",
              "Ipanema       2033096.05\n",
              "Name: preco, dtype: float64"
            ]
          },
          "metadata": {
            "tags": []
          },
          "execution_count": 20
        }
      ]
    },
    {
      "cell_type": "markdown",
      "metadata": {
        "id": "UF0M78JHN2Lp"
      },
      "source": [
        "- Quais são os valores médios por metro quadrado por bairro?"
      ]
    },
    {
      "cell_type": "code",
      "metadata": {
        "colab": {
          "base_uri": "https://localhost:8080/"
        },
        "id": "7tNIzIJBOAIQ",
        "outputId": "372a0820-1e62-4ae9-ae29-2c4b6c04c19b"
      },
      "source": [
        "round(dados_df.groupby('bairro').mean()['pm2'].sort_values(),2)"
      ],
      "execution_count": null,
      "outputs": [
        {
          "output_type": "execute_result",
          "data": {
            "text/plain": [
              "bairro\n",
              "Grajaú         6145.62\n",
              "Tijuca         7149.80\n",
              "Copacabana    11965.30\n",
              "Botafogo      12034.49\n",
              "Gávea         16511.58\n",
              "Ipanema       19738.41\n",
              "Leblon        20761.35\n",
              "Name: pm2, dtype: float64"
            ]
          },
          "metadata": {
            "tags": []
          },
          "execution_count": 21
        }
      ]
    },
    {
      "cell_type": "markdown",
      "metadata": {
        "id": "nE-ApuIxgV4Z"
      },
      "source": [
        "# Pandas Profiling"
      ]
    },
    {
      "cell_type": "markdown",
      "metadata": {
        "id": "VVqoo0IgR2rB"
      },
      "source": [
        "Também é possível verificar as informações do dataset usando o Pandas Profiling, o qual é uma ferramenta que gera um relatório HTML com correlações, gráficos, informações estatísticas e outros dados interessantes de serem analisados."
      ]
    },
    {
      "cell_type": "markdown",
      "metadata": {
        "id": "TgSjiAAvSK_4"
      },
      "source": [
        "- Instalando o pandas profiling:"
      ]
    },
    {
      "cell_type": "code",
      "metadata": {
        "id": "3D7XyhbPpKGT"
      },
      "source": [
        "import sys\r\n",
        "!{sys.executable} -m pip install -U pandas-profiling[notebook]\r\n",
        "!jupyter nbextension enable --py widgetsnbextension"
      ],
      "execution_count": null,
      "outputs": []
    },
    {
      "cell_type": "markdown",
      "metadata": {
        "id": "2fIeyFWbSo3A"
      },
      "source": [
        "- Importando o Profile Report"
      ]
    },
    {
      "cell_type": "code",
      "metadata": {
        "id": "RO5nPKhFfVU0"
      },
      "source": [
        "import pandas_profiling\r\n",
        "from pandas_profiling.utils.cache import cache_file"
      ],
      "execution_count": 4,
      "outputs": []
    },
    {
      "cell_type": "markdown",
      "metadata": {
        "id": "0tTeDEhIpahx"
      },
      "source": [
        "- Criação do Relatório"
      ]
    },
    {
      "cell_type": "code",
      "metadata": {
        "id": "hayDn9AjSoYl"
      },
      "source": [
        "profile = dados_df.profile_report(title = 'Imoveis Rio', html = {'style':{'full_width': True}})"
      ],
      "execution_count": 5,
      "outputs": []
    },
    {
      "cell_type": "markdown",
      "metadata": {
        "id": "LbE6x5vBTDPZ"
      },
      "source": [
        "- Exibindo o relatório"
      ]
    },
    {
      "cell_type": "code",
      "metadata": {
        "id": "IcQnkq_ETCsd"
      },
      "source": [
        "profile.to_notebook_iframe()"
      ],
      "execution_count": null,
      "outputs": []
    },
    {
      "cell_type": "markdown",
      "metadata": {
        "id": "aWhhAVKPqoss"
      },
      "source": [
        "- Também é possível salvar este relatório para facilitar a visualização durante o resto do projeto:\r\n"
      ]
    },
    {
      "cell_type": "code",
      "metadata": {
        "colab": {
          "base_uri": "https://localhost:8080/",
          "height": 49,
          "referenced_widgets": [
            "59c55a9eba084a2bb075af5927d749ab",
            "fa7cb2cb59754b10823a7ffdecc055ca",
            "7ddfd55f65e949f1b0e5a3d3572ab0a4",
            "adaec93e583d46698655cd0926912cf9",
            "2298734974334c1c8c00294b42adc3fb",
            "e081a95c811e4a728bc0325b873905c6",
            "6a4a95ce141f407b9ee6c8c637885484",
            "9cfccdc9a3d5423da6c4219863cdcc86",
            "f33df6ba827447fbba7cdbe4dca56604",
            "1cc6a5b3e3614d85a5faf472f1b46d61",
            "784f4e6262444d8babd07aff00a60651"
          ]
        },
        "id": "eVyewW8RqweV",
        "outputId": "f935774e-b0a6-47af-9f02-a8bfb2364771"
      },
      "source": [
        "profile.to_file(output_file='dataframe_report.html')"
      ],
      "execution_count": 8,
      "outputs": [
        {
          "output_type": "display_data",
          "data": {
            "application/vnd.jupyter.widget-view+json": {
              "model_id": "59c55a9eba084a2bb075af5927d749ab",
              "version_minor": 0,
              "version_major": 2
            },
            "text/plain": [
              "Export report to file:   0%|          | 0/1 [00:00<?, ?it/s]"
            ]
          },
          "metadata": {
            "tags": []
          }
        }
      ]
    },
    {
      "cell_type": "markdown",
      "metadata": {
        "id": "h5iFpir-AdxB"
      },
      "source": [
        "# Visualização dos dados"
      ]
    },
    {
      "cell_type": "markdown",
      "metadata": {
        "id": "CPmc3tBGArji"
      },
      "source": [
        "- Importação das bibliotecas para visualização de gráficos"
      ]
    },
    {
      "cell_type": "code",
      "metadata": {
        "id": "DYhb9V54Ahu5"
      },
      "source": [
        "import seaborn as sns\r\n",
        "import matplotlib.pyplot as plt\r\n"
      ],
      "execution_count": null,
      "outputs": []
    },
    {
      "cell_type": "markdown",
      "metadata": {
        "id": "Bfg_wEEtO0VP"
      },
      "source": [
        "- Visualizando a distribuição dos preços de imóveis:"
      ]
    },
    {
      "cell_type": "code",
      "metadata": {
        "colab": {
          "base_uri": "https://localhost:8080/",
          "height": 295
        },
        "id": "pHet66b3PBXL",
        "outputId": "3ed3b4d9-93eb-488f-d858-a82d88474a73"
      },
      "source": [
        "dados_df['preco'].plot.hist(bins = 30, edgecolor = 'black')"
      ],
      "execution_count": null,
      "outputs": [
        {
          "output_type": "execute_result",
          "data": {
            "text/plain": [
              "<matplotlib.axes._subplots.AxesSubplot at 0x7fb7f1dd7470>"
            ]
          },
          "metadata": {
            "tags": []
          },
          "execution_count": 27
        },
        {
          "output_type": "display_data",
          "data": {
            "image/png": "[encoded data removed]",
            "text/plain": [
              "<Figure size 432x288 with 1 Axes>"
            ]
          },
          "metadata": {
            "tags": [],
            "needs_background": "light"
          }
        }
      ]
    },
    {
      "cell_type": "markdown",
      "metadata": {
        "id": "AJXWMHNaPn0N"
      },
      "source": [
        "- Distribuição de imóveis por bairros:\r\n"
      ]
    },
    {
      "cell_type": "code",
      "metadata": {
        "colab": {
          "base_uri": "https://localhost:8080/",
          "height": 298
        },
        "id": "Y5cHXhZ9PwD5",
        "outputId": "5ca03f54-ff1a-412f-a0c8-646184c70f77"
      },
      "source": [
        "dados_df['bairro'].value_counts().plot.barh(title = 'Quantidade de imóveis por bairro')"
      ],
      "execution_count": null,
      "outputs": [
        {
          "output_type": "execute_result",
          "data": {
            "text/plain": [
              "<matplotlib.axes._subplots.AxesSubplot at 0x7fb7f19fbb70>"
            ]
          },
          "metadata": {
            "tags": []
          },
          "execution_count": 28
        },
        {
          "output_type": "display_data",
          "data": {
            "image/png": "[encoded data removed]",
            "text/plain": [
              "<Figure size 432x288 with 1 Axes>"
            ]
          },
          "metadata": {
            "tags": [],
            "needs_background": "light"
          }
        }
      ]
    },
    {
      "cell_type": "markdown",
      "metadata": {
        "id": "kjFJyc3tD40C"
      },
      "source": [
        "- Visualizando a distribuição dos valores de preço de imóvel de acordo com o bairro analisado:"
      ]
    },
    {
      "cell_type": "code",
      "metadata": {
        "colab": {
          "base_uri": "https://localhost:8080/",
          "height": 329
        },
        "id": "aZ-iLjPtAzwn",
        "outputId": "0026bbfc-725f-497f-8cac-feae247ed2fc"
      },
      "source": [
        "sns.set(rc = {'figure.figsize': (15, 5)})\r\n",
        "graf = sns.barplot(x = 'bairro', y = 'preco', data = dados_df)"
      ],
      "execution_count": null,
      "outputs": [
        {
          "output_type": "display_data",
          "data": {
            "image/png": "[encoded data removed]",
            "text/plain": [
              "<Figure size 1080x360 with 1 Axes>"
            ]
          },
          "metadata": {
            "tags": []
          }
        }
      ]
    },
    {
      "cell_type": "markdown",
      "metadata": {
        "id": "oBKVhurKGbFZ"
      },
      "source": [
        "- Visualizando a distribuição dos valores de preço de metro quadrado de acordo com o bairro analisado:"
      ]
    },
    {
      "cell_type": "code",
      "metadata": {
        "colab": {
          "base_uri": "https://localhost:8080/",
          "height": 313
        },
        "id": "iDz9BIooCGB3",
        "outputId": "afc4d6e1-f31f-4963-8957-aed80bd7efc1"
      },
      "source": [
        "sns.set(rc = {'figure.figsize': (15, 5)})\r\n",
        "graf = sns.barplot(x = 'bairro', y = 'pm2', data = dados_df)"
      ],
      "execution_count": null,
      "outputs": [
        {
          "output_type": "display_data",
          "data": {
            "image/png": "[encoded data removed]",
            "text/plain": [
              "<Figure size 1080x360 with 1 Axes>"
            ]
          },
          "metadata": {
            "tags": []
          }
        }
      ]
    },
    {
      "cell_type": "markdown",
      "metadata": {
        "id": "E6wkVDp_GkUI"
      },
      "source": [
        "É possível notar que os bairros com maiores valores de imóveis são Ipanema e Leblon. Contudo, ainda que Ipanema tenha o imóvel de maior avaliação, é no Leblon que fica com o maior valor de metro quadrado."
      ]
    },
    {
      "cell_type": "markdown",
      "metadata": {
        "id": "P9FvqIdqQauC"
      },
      "source": [
        "- Dispersão dos preços de imóveis de acordo com a área"
      ]
    },
    {
      "cell_type": "markdown",
      "metadata": {
        "id": "j2-svr9kQiZ3"
      },
      "source": [
        "É possível notar que existe uma relação entre os preços de imóveis com o aumento da área."
      ]
    },
    {
      "cell_type": "code",
      "metadata": {
        "colab": {
          "base_uri": "https://localhost:8080/",
          "height": 328
        },
        "id": "OqJQ-W-fC5e5",
        "outputId": "7d171646-bfea-4bc6-f661-10b221632001"
      },
      "source": [
        "sns.set(rc = {'figure.figsize': (15, 5)})\r\n",
        "graf = sns.scatterplot(data = dados_df, x = 'area', y = 'preco')"
      ],
      "execution_count": null,
      "outputs": [
        {
          "output_type": "display_data",
          "data": {
            "image/png": "[encoded data removed]",
            "text/plain": [
              "<Figure size 1080x360 with 1 Axes>"
            ]
          },
          "metadata": {
            "tags": []
          }
        }
      ]
    },
    {
      "cell_type": "markdown",
      "metadata": {
        "id": "3ykTT4EERABA"
      },
      "source": [
        "- Dispersão de valores de imóveis por condomínio"
      ]
    },
    {
      "cell_type": "markdown",
      "metadata": {
        "id": "4EBIcl6jRGh8"
      },
      "source": [
        "Também é possível notar uma relação positiva entre os valores de imóveis com custo de condomínio"
      ]
    },
    {
      "cell_type": "code",
      "metadata": {
        "colab": {
          "base_uri": "https://localhost:8080/",
          "height": 328
        },
        "id": "zrS8jD3cDTzV",
        "outputId": "7d03d2c7-9975-4c85-c658-efe61099dc87"
      },
      "source": [
        "sns.set(rc = {'figure.figsize': (15, 5)})\r\n",
        "graf = sns.scatterplot(data = dados_df, x = 'condominio', y = 'preco')"
      ],
      "execution_count": null,
      "outputs": [
        {
          "output_type": "display_data",
          "data": {
            "image/png": "[encoded data removed]",
            "text/plain": [
              "<Figure size 1080x360 with 1 Axes>"
            ]
          },
          "metadata": {
            "tags": []
          }
        }
      ]
    },
    {
      "cell_type": "markdown",
      "metadata": {
        "id": "OOfYnzhdRaMV"
      },
      "source": [
        "- Dispersão de valores de condomínio em relação à área"
      ]
    },
    {
      "cell_type": "markdown",
      "metadata": {
        "id": "dF8jvB7URiiq"
      },
      "source": [
        "Também é possível notar um acréscimo no custo do condomínio de acordo com a área dos imóveis"
      ]
    },
    {
      "cell_type": "code",
      "metadata": {
        "colab": {
          "base_uri": "https://localhost:8080/",
          "height": 314
        },
        "id": "Uc0dHhjsQ7wq",
        "outputId": "6fd3ac9c-7f15-4858-d1c0-d9b25bfb8561"
      },
      "source": [
        "sns.set(rc = {'figure.figsize': (15, 5)})\r\n",
        "graf = sns.scatterplot(data = dados_df, x = 'area', y = 'condominio')"
      ],
      "execution_count": null,
      "outputs": [
        {
          "output_type": "display_data",
          "data": {
            "image/png": "[encoded data removed]",
            "text/plain": [
              "<Figure size 1080x360 with 1 Axes>"
            ]
          },
          "metadata": {
            "tags": []
          }
        }
      ]
    },
    {
      "cell_type": "markdown",
      "metadata": {
        "id": "OeIZ3M9vULGw"
      },
      "source": [
        "- Visualizando a distribuição de quantidade de quartos na base de dados\r\n",
        "\r\n",
        "Assim é possível verificar que a maior quantidade de imóveis analisados possuía 3 dormitórios"
      ]
    },
    {
      "cell_type": "code",
      "metadata": {
        "colab": {
          "base_uri": "https://localhost:8080/",
          "height": 303
        },
        "id": "8846jTYFRQUM",
        "outputId": "a8e275b8-5480-43d7-9950-69c9620db04e"
      },
      "source": [
        "dados_df['quartos'].value_counts().plot.pie(autopct ='%.2f')\r\n",
        "plt.show()"
      ],
      "execution_count": null,
      "outputs": [
        {
          "output_type": "display_data",
          "data": {
            "image/png": "[encoded data removed]",
            "text/plain": [
              "<Figure size 1080x360 with 1 Axes>"
            ]
          },
          "metadata": {
            "tags": []
          }
        }
      ]
    },
    {
      "cell_type": "markdown",
      "metadata": {
        "id": "XBk1uM3Gfw4D"
      },
      "source": [
        "Para verificar se a informação está correta:"
      ]
    },
    {
      "cell_type": "code",
      "metadata": {
        "colab": {
          "base_uri": "https://localhost:8080/"
        },
        "id": "glyGEzcDfnF2",
        "outputId": "e0b03b87-51c7-483a-9c43-0aef78d8df3d"
      },
      "source": [
        "dados_df['quartos'].value_counts()"
      ],
      "execution_count": null,
      "outputs": [
        {
          "output_type": "execute_result",
          "data": {
            "text/plain": [
              "3    774\n",
              "2    706\n",
              "1    517\n",
              "Name: quartos, dtype: int64"
            ]
          },
          "metadata": {
            "tags": []
          },
          "execution_count": 35
        }
      ]
    }
  ]
}